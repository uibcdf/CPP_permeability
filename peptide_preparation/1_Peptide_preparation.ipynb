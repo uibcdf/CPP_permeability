{
 "cells": [
  {
   "cell_type": "markdown",
   "id": "eb1c0e01-0dad-48f1-ab6e-129ffab564f1",
   "metadata": {},
   "source": [
    "# Peptide preparation"
   ]
  },
  {
   "cell_type": "code",
   "execution_count": 1,
   "id": "6c28465c-6171-44d3-b80b-7a33e58fbfd8",
   "metadata": {},
   "outputs": [
    {
     "data": {
      "application/vnd.jupyter.widget-view+json": {
       "model_id": "3cfe8d438e9f43b68c966c0241f83d5f",
       "version_major": 2,
       "version_minor": 0
      },
      "text/plain": []
     },
     "metadata": {},
     "output_type": "display_data"
    }
   ],
   "source": [
    "import molsysmt as msm"
   ]
  },
  {
   "cell_type": "code",
   "execution_count": 2,
   "id": "fe448d5c-79e0-4abf-8661-12447dd9214e",
   "metadata": {},
   "outputs": [],
   "source": [
    "molecular_system = msm.build.build_peptide('RRRRRRR')"
   ]
  },
  {
   "cell_type": "code",
   "execution_count": 3,
   "id": "aca108e2-a52b-45f8-af94-d75416e830a8",
   "metadata": {},
   "outputs": [
    {
     "data": {
      "text/html": [
       "<style type=\"text/css\">\n",
       "</style>\n",
       "<table id=\"T_0196c\">\n",
       "  <thead>\n",
       "    <tr>\n",
       "      <th id=\"T_0196c_level0_col0\" class=\"col_heading level0 col0\" >form</th>\n",
       "      <th id=\"T_0196c_level0_col1\" class=\"col_heading level0 col1\" >n_atoms</th>\n",
       "      <th id=\"T_0196c_level0_col2\" class=\"col_heading level0 col2\" >n_groups</th>\n",
       "      <th id=\"T_0196c_level0_col3\" class=\"col_heading level0 col3\" >n_components</th>\n",
       "      <th id=\"T_0196c_level0_col4\" class=\"col_heading level0 col4\" >n_chains</th>\n",
       "      <th id=\"T_0196c_level0_col5\" class=\"col_heading level0 col5\" >n_molecules</th>\n",
       "      <th id=\"T_0196c_level0_col6\" class=\"col_heading level0 col6\" >n_entities</th>\n",
       "      <th id=\"T_0196c_level0_col7\" class=\"col_heading level0 col7\" >n_peptides</th>\n",
       "      <th id=\"T_0196c_level0_col8\" class=\"col_heading level0 col8\" >n_structures</th>\n",
       "    </tr>\n",
       "  </thead>\n",
       "  <tbody>\n",
       "    <tr>\n",
       "      <td id=\"T_0196c_row0_col0\" class=\"data row0 col0\" >molsysmt.MolSys</td>\n",
       "      <td id=\"T_0196c_row0_col1\" class=\"data row0 col1\" >168</td>\n",
       "      <td id=\"T_0196c_row0_col2\" class=\"data row0 col2\" >7</td>\n",
       "      <td id=\"T_0196c_row0_col3\" class=\"data row0 col3\" >1</td>\n",
       "      <td id=\"T_0196c_row0_col4\" class=\"data row0 col4\" >1</td>\n",
       "      <td id=\"T_0196c_row0_col5\" class=\"data row0 col5\" >1</td>\n",
       "      <td id=\"T_0196c_row0_col6\" class=\"data row0 col6\" >1</td>\n",
       "      <td id=\"T_0196c_row0_col7\" class=\"data row0 col7\" >1</td>\n",
       "      <td id=\"T_0196c_row0_col8\" class=\"data row0 col8\" >1</td>\n",
       "    </tr>\n",
       "  </tbody>\n",
       "</table>\n"
      ],
      "text/plain": [
       "<pandas.io.formats.style.Styler at 0x7fe09be06160>"
      ]
     },
     "execution_count": 3,
     "metadata": {},
     "output_type": "execute_result"
    }
   ],
   "source": [
    "msm.info(molecular_system)"
   ]
  },
  {
   "cell_type": "code",
   "execution_count": 4,
   "id": "f799a877-9797-4c29-8b7d-fee8ceab291a",
   "metadata": {},
   "outputs": [
    {
     "data": {
      "text/html": [
       "<style type=\"text/css\">\n",
       "</style>\n",
       "<table id=\"T_89548\">\n",
       "  <thead>\n",
       "    <tr>\n",
       "      <th id=\"T_89548_level0_col0\" class=\"col_heading level0 col0\" >index</th>\n",
       "      <th id=\"T_89548_level0_col1\" class=\"col_heading level0 col1\" >id</th>\n",
       "      <th id=\"T_89548_level0_col2\" class=\"col_heading level0 col2\" >name</th>\n",
       "      <th id=\"T_89548_level0_col3\" class=\"col_heading level0 col3\" >type</th>\n",
       "      <th id=\"T_89548_level0_col4\" class=\"col_heading level0 col4\" >n atoms</th>\n",
       "      <th id=\"T_89548_level0_col5\" class=\"col_heading level0 col5\" >component index</th>\n",
       "      <th id=\"T_89548_level0_col6\" class=\"col_heading level0 col6\" >chain index</th>\n",
       "      <th id=\"T_89548_level0_col7\" class=\"col_heading level0 col7\" >molecule index</th>\n",
       "      <th id=\"T_89548_level0_col8\" class=\"col_heading level0 col8\" >molecule type</th>\n",
       "      <th id=\"T_89548_level0_col9\" class=\"col_heading level0 col9\" >entity index</th>\n",
       "      <th id=\"T_89548_level0_col10\" class=\"col_heading level0 col10\" >entity name</th>\n",
       "    </tr>\n",
       "  </thead>\n",
       "  <tbody>\n",
       "    <tr>\n",
       "      <td id=\"T_89548_row0_col0\" class=\"data row0 col0\" >0</td>\n",
       "      <td id=\"T_89548_row0_col1\" class=\"data row0 col1\" >1</td>\n",
       "      <td id=\"T_89548_row0_col2\" class=\"data row0 col2\" >ARG</td>\n",
       "      <td id=\"T_89548_row0_col3\" class=\"data row0 col3\" >aminoacid</td>\n",
       "      <td id=\"T_89548_row0_col4\" class=\"data row0 col4\" >24</td>\n",
       "      <td id=\"T_89548_row0_col5\" class=\"data row0 col5\" >0</td>\n",
       "      <td id=\"T_89548_row0_col6\" class=\"data row0 col6\" >0</td>\n",
       "      <td id=\"T_89548_row0_col7\" class=\"data row0 col7\" >0</td>\n",
       "      <td id=\"T_89548_row0_col8\" class=\"data row0 col8\" >peptide</td>\n",
       "      <td id=\"T_89548_row0_col9\" class=\"data row0 col9\" >0</td>\n",
       "      <td id=\"T_89548_row0_col10\" class=\"data row0 col10\" >Peptide_0</td>\n",
       "    </tr>\n",
       "    <tr>\n",
       "      <td id=\"T_89548_row1_col0\" class=\"data row1 col0\" >1</td>\n",
       "      <td id=\"T_89548_row1_col1\" class=\"data row1 col1\" >2</td>\n",
       "      <td id=\"T_89548_row1_col2\" class=\"data row1 col2\" >ARG</td>\n",
       "      <td id=\"T_89548_row1_col3\" class=\"data row1 col3\" >aminoacid</td>\n",
       "      <td id=\"T_89548_row1_col4\" class=\"data row1 col4\" >24</td>\n",
       "      <td id=\"T_89548_row1_col5\" class=\"data row1 col5\" >0</td>\n",
       "      <td id=\"T_89548_row1_col6\" class=\"data row1 col6\" >0</td>\n",
       "      <td id=\"T_89548_row1_col7\" class=\"data row1 col7\" >0</td>\n",
       "      <td id=\"T_89548_row1_col8\" class=\"data row1 col8\" >peptide</td>\n",
       "      <td id=\"T_89548_row1_col9\" class=\"data row1 col9\" >0</td>\n",
       "      <td id=\"T_89548_row1_col10\" class=\"data row1 col10\" >Peptide_0</td>\n",
       "    </tr>\n",
       "    <tr>\n",
       "      <td id=\"T_89548_row2_col0\" class=\"data row2 col0\" >2</td>\n",
       "      <td id=\"T_89548_row2_col1\" class=\"data row2 col1\" >3</td>\n",
       "      <td id=\"T_89548_row2_col2\" class=\"data row2 col2\" >ARG</td>\n",
       "      <td id=\"T_89548_row2_col3\" class=\"data row2 col3\" >aminoacid</td>\n",
       "      <td id=\"T_89548_row2_col4\" class=\"data row2 col4\" >24</td>\n",
       "      <td id=\"T_89548_row2_col5\" class=\"data row2 col5\" >0</td>\n",
       "      <td id=\"T_89548_row2_col6\" class=\"data row2 col6\" >0</td>\n",
       "      <td id=\"T_89548_row2_col7\" class=\"data row2 col7\" >0</td>\n",
       "      <td id=\"T_89548_row2_col8\" class=\"data row2 col8\" >peptide</td>\n",
       "      <td id=\"T_89548_row2_col9\" class=\"data row2 col9\" >0</td>\n",
       "      <td id=\"T_89548_row2_col10\" class=\"data row2 col10\" >Peptide_0</td>\n",
       "    </tr>\n",
       "    <tr>\n",
       "      <td id=\"T_89548_row3_col0\" class=\"data row3 col0\" >3</td>\n",
       "      <td id=\"T_89548_row3_col1\" class=\"data row3 col1\" >4</td>\n",
       "      <td id=\"T_89548_row3_col2\" class=\"data row3 col2\" >ARG</td>\n",
       "      <td id=\"T_89548_row3_col3\" class=\"data row3 col3\" >aminoacid</td>\n",
       "      <td id=\"T_89548_row3_col4\" class=\"data row3 col4\" >24</td>\n",
       "      <td id=\"T_89548_row3_col5\" class=\"data row3 col5\" >0</td>\n",
       "      <td id=\"T_89548_row3_col6\" class=\"data row3 col6\" >0</td>\n",
       "      <td id=\"T_89548_row3_col7\" class=\"data row3 col7\" >0</td>\n",
       "      <td id=\"T_89548_row3_col8\" class=\"data row3 col8\" >peptide</td>\n",
       "      <td id=\"T_89548_row3_col9\" class=\"data row3 col9\" >0</td>\n",
       "      <td id=\"T_89548_row3_col10\" class=\"data row3 col10\" >Peptide_0</td>\n",
       "    </tr>\n",
       "    <tr>\n",
       "      <td id=\"T_89548_row4_col0\" class=\"data row4 col0\" >4</td>\n",
       "      <td id=\"T_89548_row4_col1\" class=\"data row4 col1\" >5</td>\n",
       "      <td id=\"T_89548_row4_col2\" class=\"data row4 col2\" >ARG</td>\n",
       "      <td id=\"T_89548_row4_col3\" class=\"data row4 col3\" >aminoacid</td>\n",
       "      <td id=\"T_89548_row4_col4\" class=\"data row4 col4\" >24</td>\n",
       "      <td id=\"T_89548_row4_col5\" class=\"data row4 col5\" >0</td>\n",
       "      <td id=\"T_89548_row4_col6\" class=\"data row4 col6\" >0</td>\n",
       "      <td id=\"T_89548_row4_col7\" class=\"data row4 col7\" >0</td>\n",
       "      <td id=\"T_89548_row4_col8\" class=\"data row4 col8\" >peptide</td>\n",
       "      <td id=\"T_89548_row4_col9\" class=\"data row4 col9\" >0</td>\n",
       "      <td id=\"T_89548_row4_col10\" class=\"data row4 col10\" >Peptide_0</td>\n",
       "    </tr>\n",
       "    <tr>\n",
       "      <td id=\"T_89548_row5_col0\" class=\"data row5 col0\" >5</td>\n",
       "      <td id=\"T_89548_row5_col1\" class=\"data row5 col1\" >6</td>\n",
       "      <td id=\"T_89548_row5_col2\" class=\"data row5 col2\" >ARG</td>\n",
       "      <td id=\"T_89548_row5_col3\" class=\"data row5 col3\" >aminoacid</td>\n",
       "      <td id=\"T_89548_row5_col4\" class=\"data row5 col4\" >24</td>\n",
       "      <td id=\"T_89548_row5_col5\" class=\"data row5 col5\" >0</td>\n",
       "      <td id=\"T_89548_row5_col6\" class=\"data row5 col6\" >0</td>\n",
       "      <td id=\"T_89548_row5_col7\" class=\"data row5 col7\" >0</td>\n",
       "      <td id=\"T_89548_row5_col8\" class=\"data row5 col8\" >peptide</td>\n",
       "      <td id=\"T_89548_row5_col9\" class=\"data row5 col9\" >0</td>\n",
       "      <td id=\"T_89548_row5_col10\" class=\"data row5 col10\" >Peptide_0</td>\n",
       "    </tr>\n",
       "    <tr>\n",
       "      <td id=\"T_89548_row6_col0\" class=\"data row6 col0\" >6</td>\n",
       "      <td id=\"T_89548_row6_col1\" class=\"data row6 col1\" >7</td>\n",
       "      <td id=\"T_89548_row6_col2\" class=\"data row6 col2\" >ARG</td>\n",
       "      <td id=\"T_89548_row6_col3\" class=\"data row6 col3\" >aminoacid</td>\n",
       "      <td id=\"T_89548_row6_col4\" class=\"data row6 col4\" >24</td>\n",
       "      <td id=\"T_89548_row6_col5\" class=\"data row6 col5\" >0</td>\n",
       "      <td id=\"T_89548_row6_col6\" class=\"data row6 col6\" >0</td>\n",
       "      <td id=\"T_89548_row6_col7\" class=\"data row6 col7\" >0</td>\n",
       "      <td id=\"T_89548_row6_col8\" class=\"data row6 col8\" >peptide</td>\n",
       "      <td id=\"T_89548_row6_col9\" class=\"data row6 col9\" >0</td>\n",
       "      <td id=\"T_89548_row6_col10\" class=\"data row6 col10\" >Peptide_0</td>\n",
       "    </tr>\n",
       "  </tbody>\n",
       "</table>\n"
      ],
      "text/plain": [
       "<pandas.io.formats.style.Styler at 0x7fe09baf6400>"
      ]
     },
     "execution_count": 4,
     "metadata": {},
     "output_type": "execute_result"
    }
   ],
   "source": [
    "msm.info(molecular_system, element = 'group')"
   ]
  },
  {
   "cell_type": "code",
   "execution_count": 5,
   "id": "ed0caa29-9570-4661-b675-2b3a6c816c9d",
   "metadata": {},
   "outputs": [
    {
     "name": "stderr",
     "output_type": "stream",
     "text": [
      "Warning: importing 'simtk.openmm' is deprecated.  Import 'openmm' instead.\n"
     ]
    }
   ],
   "source": [
    "molecular_system = msm.build.add_missing_terminal_cappings(molecular_system, N_terminal='ACE', C_terminal='NME')"
   ]
  },
  {
   "cell_type": "code",
   "execution_count": 6,
   "id": "137c0536-fd1d-4ef4-bd3b-4ff18227d740",
   "metadata": {},
   "outputs": [
    {
     "data": {
      "text/html": [
       "<style type=\"text/css\">\n",
       "</style>\n",
       "<table id=\"T_26199\">\n",
       "  <thead>\n",
       "    <tr>\n",
       "      <th id=\"T_26199_level0_col0\" class=\"col_heading level0 col0\" >index</th>\n",
       "      <th id=\"T_26199_level0_col1\" class=\"col_heading level0 col1\" >id</th>\n",
       "      <th id=\"T_26199_level0_col2\" class=\"col_heading level0 col2\" >name</th>\n",
       "      <th id=\"T_26199_level0_col3\" class=\"col_heading level0 col3\" >type</th>\n",
       "      <th id=\"T_26199_level0_col4\" class=\"col_heading level0 col4\" >n atoms</th>\n",
       "      <th id=\"T_26199_level0_col5\" class=\"col_heading level0 col5\" >component index</th>\n",
       "      <th id=\"T_26199_level0_col6\" class=\"col_heading level0 col6\" >chain index</th>\n",
       "      <th id=\"T_26199_level0_col7\" class=\"col_heading level0 col7\" >molecule index</th>\n",
       "      <th id=\"T_26199_level0_col8\" class=\"col_heading level0 col8\" >molecule type</th>\n",
       "      <th id=\"T_26199_level0_col9\" class=\"col_heading level0 col9\" >entity index</th>\n",
       "      <th id=\"T_26199_level0_col10\" class=\"col_heading level0 col10\" >entity name</th>\n",
       "    </tr>\n",
       "  </thead>\n",
       "  <tbody>\n",
       "    <tr>\n",
       "      <td id=\"T_26199_row0_col0\" class=\"data row0 col0\" >0</td>\n",
       "      <td id=\"T_26199_row0_col1\" class=\"data row0 col1\" >0</td>\n",
       "      <td id=\"T_26199_row0_col2\" class=\"data row0 col2\" >ACE</td>\n",
       "      <td id=\"T_26199_row0_col3\" class=\"data row0 col3\" >terminal capping</td>\n",
       "      <td id=\"T_26199_row0_col4\" class=\"data row0 col4\" >6</td>\n",
       "      <td id=\"T_26199_row0_col5\" class=\"data row0 col5\" >0</td>\n",
       "      <td id=\"T_26199_row0_col6\" class=\"data row0 col6\" >0</td>\n",
       "      <td id=\"T_26199_row0_col7\" class=\"data row0 col7\" >0</td>\n",
       "      <td id=\"T_26199_row0_col8\" class=\"data row0 col8\" >peptide</td>\n",
       "      <td id=\"T_26199_row0_col9\" class=\"data row0 col9\" >0</td>\n",
       "      <td id=\"T_26199_row0_col10\" class=\"data row0 col10\" >Peptide_0</td>\n",
       "    </tr>\n",
       "    <tr>\n",
       "      <td id=\"T_26199_row1_col0\" class=\"data row1 col0\" >1</td>\n",
       "      <td id=\"T_26199_row1_col1\" class=\"data row1 col1\" >1</td>\n",
       "      <td id=\"T_26199_row1_col2\" class=\"data row1 col2\" >ARG</td>\n",
       "      <td id=\"T_26199_row1_col3\" class=\"data row1 col3\" >aminoacid</td>\n",
       "      <td id=\"T_26199_row1_col4\" class=\"data row1 col4\" >24</td>\n",
       "      <td id=\"T_26199_row1_col5\" class=\"data row1 col5\" >0</td>\n",
       "      <td id=\"T_26199_row1_col6\" class=\"data row1 col6\" >0</td>\n",
       "      <td id=\"T_26199_row1_col7\" class=\"data row1 col7\" >0</td>\n",
       "      <td id=\"T_26199_row1_col8\" class=\"data row1 col8\" >peptide</td>\n",
       "      <td id=\"T_26199_row1_col9\" class=\"data row1 col9\" >0</td>\n",
       "      <td id=\"T_26199_row1_col10\" class=\"data row1 col10\" >Peptide_0</td>\n",
       "    </tr>\n",
       "    <tr>\n",
       "      <td id=\"T_26199_row2_col0\" class=\"data row2 col0\" >2</td>\n",
       "      <td id=\"T_26199_row2_col1\" class=\"data row2 col1\" >2</td>\n",
       "      <td id=\"T_26199_row2_col2\" class=\"data row2 col2\" >ARG</td>\n",
       "      <td id=\"T_26199_row2_col3\" class=\"data row2 col3\" >aminoacid</td>\n",
       "      <td id=\"T_26199_row2_col4\" class=\"data row2 col4\" >24</td>\n",
       "      <td id=\"T_26199_row2_col5\" class=\"data row2 col5\" >0</td>\n",
       "      <td id=\"T_26199_row2_col6\" class=\"data row2 col6\" >0</td>\n",
       "      <td id=\"T_26199_row2_col7\" class=\"data row2 col7\" >0</td>\n",
       "      <td id=\"T_26199_row2_col8\" class=\"data row2 col8\" >peptide</td>\n",
       "      <td id=\"T_26199_row2_col9\" class=\"data row2 col9\" >0</td>\n",
       "      <td id=\"T_26199_row2_col10\" class=\"data row2 col10\" >Peptide_0</td>\n",
       "    </tr>\n",
       "    <tr>\n",
       "      <td id=\"T_26199_row3_col0\" class=\"data row3 col0\" >3</td>\n",
       "      <td id=\"T_26199_row3_col1\" class=\"data row3 col1\" >3</td>\n",
       "      <td id=\"T_26199_row3_col2\" class=\"data row3 col2\" >ARG</td>\n",
       "      <td id=\"T_26199_row3_col3\" class=\"data row3 col3\" >aminoacid</td>\n",
       "      <td id=\"T_26199_row3_col4\" class=\"data row3 col4\" >24</td>\n",
       "      <td id=\"T_26199_row3_col5\" class=\"data row3 col5\" >0</td>\n",
       "      <td id=\"T_26199_row3_col6\" class=\"data row3 col6\" >0</td>\n",
       "      <td id=\"T_26199_row3_col7\" class=\"data row3 col7\" >0</td>\n",
       "      <td id=\"T_26199_row3_col8\" class=\"data row3 col8\" >peptide</td>\n",
       "      <td id=\"T_26199_row3_col9\" class=\"data row3 col9\" >0</td>\n",
       "      <td id=\"T_26199_row3_col10\" class=\"data row3 col10\" >Peptide_0</td>\n",
       "    </tr>\n",
       "    <tr>\n",
       "      <td id=\"T_26199_row4_col0\" class=\"data row4 col0\" >4</td>\n",
       "      <td id=\"T_26199_row4_col1\" class=\"data row4 col1\" >4</td>\n",
       "      <td id=\"T_26199_row4_col2\" class=\"data row4 col2\" >ARG</td>\n",
       "      <td id=\"T_26199_row4_col3\" class=\"data row4 col3\" >aminoacid</td>\n",
       "      <td id=\"T_26199_row4_col4\" class=\"data row4 col4\" >24</td>\n",
       "      <td id=\"T_26199_row4_col5\" class=\"data row4 col5\" >0</td>\n",
       "      <td id=\"T_26199_row4_col6\" class=\"data row4 col6\" >0</td>\n",
       "      <td id=\"T_26199_row4_col7\" class=\"data row4 col7\" >0</td>\n",
       "      <td id=\"T_26199_row4_col8\" class=\"data row4 col8\" >peptide</td>\n",
       "      <td id=\"T_26199_row4_col9\" class=\"data row4 col9\" >0</td>\n",
       "      <td id=\"T_26199_row4_col10\" class=\"data row4 col10\" >Peptide_0</td>\n",
       "    </tr>\n",
       "    <tr>\n",
       "      <td id=\"T_26199_row5_col0\" class=\"data row5 col0\" >5</td>\n",
       "      <td id=\"T_26199_row5_col1\" class=\"data row5 col1\" >5</td>\n",
       "      <td id=\"T_26199_row5_col2\" class=\"data row5 col2\" >ARG</td>\n",
       "      <td id=\"T_26199_row5_col3\" class=\"data row5 col3\" >aminoacid</td>\n",
       "      <td id=\"T_26199_row5_col4\" class=\"data row5 col4\" >24</td>\n",
       "      <td id=\"T_26199_row5_col5\" class=\"data row5 col5\" >0</td>\n",
       "      <td id=\"T_26199_row5_col6\" class=\"data row5 col6\" >0</td>\n",
       "      <td id=\"T_26199_row5_col7\" class=\"data row5 col7\" >0</td>\n",
       "      <td id=\"T_26199_row5_col8\" class=\"data row5 col8\" >peptide</td>\n",
       "      <td id=\"T_26199_row5_col9\" class=\"data row5 col9\" >0</td>\n",
       "      <td id=\"T_26199_row5_col10\" class=\"data row5 col10\" >Peptide_0</td>\n",
       "    </tr>\n",
       "    <tr>\n",
       "      <td id=\"T_26199_row6_col0\" class=\"data row6 col0\" >6</td>\n",
       "      <td id=\"T_26199_row6_col1\" class=\"data row6 col1\" >6</td>\n",
       "      <td id=\"T_26199_row6_col2\" class=\"data row6 col2\" >ARG</td>\n",
       "      <td id=\"T_26199_row6_col3\" class=\"data row6 col3\" >aminoacid</td>\n",
       "      <td id=\"T_26199_row6_col4\" class=\"data row6 col4\" >24</td>\n",
       "      <td id=\"T_26199_row6_col5\" class=\"data row6 col5\" >0</td>\n",
       "      <td id=\"T_26199_row6_col6\" class=\"data row6 col6\" >0</td>\n",
       "      <td id=\"T_26199_row6_col7\" class=\"data row6 col7\" >0</td>\n",
       "      <td id=\"T_26199_row6_col8\" class=\"data row6 col8\" >peptide</td>\n",
       "      <td id=\"T_26199_row6_col9\" class=\"data row6 col9\" >0</td>\n",
       "      <td id=\"T_26199_row6_col10\" class=\"data row6 col10\" >Peptide_0</td>\n",
       "    </tr>\n",
       "    <tr>\n",
       "      <td id=\"T_26199_row7_col0\" class=\"data row7 col0\" >7</td>\n",
       "      <td id=\"T_26199_row7_col1\" class=\"data row7 col1\" >7</td>\n",
       "      <td id=\"T_26199_row7_col2\" class=\"data row7 col2\" >ARG</td>\n",
       "      <td id=\"T_26199_row7_col3\" class=\"data row7 col3\" >aminoacid</td>\n",
       "      <td id=\"T_26199_row7_col4\" class=\"data row7 col4\" >24</td>\n",
       "      <td id=\"T_26199_row7_col5\" class=\"data row7 col5\" >0</td>\n",
       "      <td id=\"T_26199_row7_col6\" class=\"data row7 col6\" >0</td>\n",
       "      <td id=\"T_26199_row7_col7\" class=\"data row7 col7\" >0</td>\n",
       "      <td id=\"T_26199_row7_col8\" class=\"data row7 col8\" >peptide</td>\n",
       "      <td id=\"T_26199_row7_col9\" class=\"data row7 col9\" >0</td>\n",
       "      <td id=\"T_26199_row7_col10\" class=\"data row7 col10\" >Peptide_0</td>\n",
       "    </tr>\n",
       "    <tr>\n",
       "      <td id=\"T_26199_row8_col0\" class=\"data row8 col0\" >8</td>\n",
       "      <td id=\"T_26199_row8_col1\" class=\"data row8 col1\" >8</td>\n",
       "      <td id=\"T_26199_row8_col2\" class=\"data row8 col2\" >NME</td>\n",
       "      <td id=\"T_26199_row8_col3\" class=\"data row8 col3\" >terminal capping</td>\n",
       "      <td id=\"T_26199_row8_col4\" class=\"data row8 col4\" >6</td>\n",
       "      <td id=\"T_26199_row8_col5\" class=\"data row8 col5\" >0</td>\n",
       "      <td id=\"T_26199_row8_col6\" class=\"data row8 col6\" >0</td>\n",
       "      <td id=\"T_26199_row8_col7\" class=\"data row8 col7\" >0</td>\n",
       "      <td id=\"T_26199_row8_col8\" class=\"data row8 col8\" >peptide</td>\n",
       "      <td id=\"T_26199_row8_col9\" class=\"data row8 col9\" >0</td>\n",
       "      <td id=\"T_26199_row8_col10\" class=\"data row8 col10\" >Peptide_0</td>\n",
       "    </tr>\n",
       "  </tbody>\n",
       "</table>\n"
      ],
      "text/plain": [
       "<pandas.io.formats.style.Styler at 0x7fe09bacc5b0>"
      ]
     },
     "execution_count": 6,
     "metadata": {},
     "output_type": "execute_result"
    }
   ],
   "source": [
    "msm.info(molecular_system, element='group')"
   ]
  },
  {
   "cell_type": "code",
   "execution_count": 7,
   "id": "7e14cd6d-edad-4a0a-9fbd-d97dae86580e",
   "metadata": {},
   "outputs": [
    {
     "data": {
      "text/html": [
       "<style type=\"text/css\">\n",
       "</style>\n",
       "<table id=\"T_22357\">\n",
       "  <thead>\n",
       "    <tr>\n",
       "      <th id=\"T_22357_level0_col0\" class=\"col_heading level0 col0\" >form</th>\n",
       "      <th id=\"T_22357_level0_col1\" class=\"col_heading level0 col1\" >n_atoms</th>\n",
       "      <th id=\"T_22357_level0_col2\" class=\"col_heading level0 col2\" >n_groups</th>\n",
       "      <th id=\"T_22357_level0_col3\" class=\"col_heading level0 col3\" >n_components</th>\n",
       "      <th id=\"T_22357_level0_col4\" class=\"col_heading level0 col4\" >n_chains</th>\n",
       "      <th id=\"T_22357_level0_col5\" class=\"col_heading level0 col5\" >n_molecules</th>\n",
       "      <th id=\"T_22357_level0_col6\" class=\"col_heading level0 col6\" >n_entities</th>\n",
       "      <th id=\"T_22357_level0_col7\" class=\"col_heading level0 col7\" >n_peptides</th>\n",
       "      <th id=\"T_22357_level0_col8\" class=\"col_heading level0 col8\" >n_structures</th>\n",
       "    </tr>\n",
       "  </thead>\n",
       "  <tbody>\n",
       "    <tr>\n",
       "      <td id=\"T_22357_row0_col0\" class=\"data row0 col0\" >molsysmt.MolSys</td>\n",
       "      <td id=\"T_22357_row0_col1\" class=\"data row0 col1\" >180</td>\n",
       "      <td id=\"T_22357_row0_col2\" class=\"data row0 col2\" >9</td>\n",
       "      <td id=\"T_22357_row0_col3\" class=\"data row0 col3\" >1</td>\n",
       "      <td id=\"T_22357_row0_col4\" class=\"data row0 col4\" >1</td>\n",
       "      <td id=\"T_22357_row0_col5\" class=\"data row0 col5\" >1</td>\n",
       "      <td id=\"T_22357_row0_col6\" class=\"data row0 col6\" >1</td>\n",
       "      <td id=\"T_22357_row0_col7\" class=\"data row0 col7\" >1</td>\n",
       "      <td id=\"T_22357_row0_col8\" class=\"data row0 col8\" >1</td>\n",
       "    </tr>\n",
       "  </tbody>\n",
       "</table>\n"
      ],
      "text/plain": [
       "<pandas.io.formats.style.Styler at 0x7fe09b4b3fd0>"
      ]
     },
     "execution_count": 7,
     "metadata": {},
     "output_type": "execute_result"
    }
   ],
   "source": [
    "msm.info(molecular_system)"
   ]
  },
  {
   "cell_type": "code",
   "execution_count": 8,
   "id": "c0002992-f1f3-4fd9-82fa-d76c34e22801",
   "metadata": {},
   "outputs": [],
   "source": [
    "molecular_system = msm.structure.center(molecular_system, selection='molecule_type==\"peptide\"')"
   ]
  },
  {
   "cell_type": "code",
   "execution_count": 13,
   "id": "f8357479-0444-456e-a90b-af0d4e3158c0",
   "metadata": {},
   "outputs": [
    {
     "data": {
      "application/vnd.jupyter.widget-view+json": {
       "model_id": "9c257adf94c049dd940ef582ebd9aff5",
       "version_major": 2,
       "version_minor": 0
      },
      "text/plain": [
       "NGLWidget()"
      ]
     },
     "metadata": {},
     "output_type": "display_data"
    }
   ],
   "source": [
    "view = msm.view(molecular_system)\n",
    "view.clear()\n",
    "view.add_ball_and_stick()\n",
    "view"
   ]
  },
  {
   "cell_type": "code",
   "execution_count": 14,
   "id": "64f67dfa-c03e-4530-8ffd-31c065665b62",
   "metadata": {},
   "outputs": [],
   "source": [
    "molecular_system = msm.build.solvate(molecular_system, box_shape='truncated octahedral', clearance='14.0 angstroms')"
   ]
  },
  {
   "cell_type": "code",
   "execution_count": 15,
   "id": "c67344d1-a650-4657-8fb5-d8313bbef24a",
   "metadata": {},
   "outputs": [
    {
     "data": {
      "text/html": [
       "<style type=\"text/css\">\n",
       "</style>\n",
       "<table id=\"T_2c580\">\n",
       "  <thead>\n",
       "    <tr>\n",
       "      <th id=\"T_2c580_level0_col0\" class=\"col_heading level0 col0\" >form</th>\n",
       "      <th id=\"T_2c580_level0_col1\" class=\"col_heading level0 col1\" >n_atoms</th>\n",
       "      <th id=\"T_2c580_level0_col2\" class=\"col_heading level0 col2\" >n_groups</th>\n",
       "      <th id=\"T_2c580_level0_col3\" class=\"col_heading level0 col3\" >n_components</th>\n",
       "      <th id=\"T_2c580_level0_col4\" class=\"col_heading level0 col4\" >n_chains</th>\n",
       "      <th id=\"T_2c580_level0_col5\" class=\"col_heading level0 col5\" >n_molecules</th>\n",
       "      <th id=\"T_2c580_level0_col6\" class=\"col_heading level0 col6\" >n_entities</th>\n",
       "      <th id=\"T_2c580_level0_col7\" class=\"col_heading level0 col7\" >n_waters</th>\n",
       "      <th id=\"T_2c580_level0_col8\" class=\"col_heading level0 col8\" >n_ions</th>\n",
       "      <th id=\"T_2c580_level0_col9\" class=\"col_heading level0 col9\" >n_peptides</th>\n",
       "      <th id=\"T_2c580_level0_col10\" class=\"col_heading level0 col10\" >n_structures</th>\n",
       "    </tr>\n",
       "  </thead>\n",
       "  <tbody>\n",
       "    <tr>\n",
       "      <td id=\"T_2c580_row0_col0\" class=\"data row0 col0\" >molsysmt.MolSys</td>\n",
       "      <td id=\"T_2c580_row0_col1\" class=\"data row0 col1\" >4822</td>\n",
       "      <td id=\"T_2c580_row0_col2\" class=\"data row0 col2\" >1561</td>\n",
       "      <td id=\"T_2c580_row0_col3\" class=\"data row0 col3\" >1553</td>\n",
       "      <td id=\"T_2c580_row0_col4\" class=\"data row0 col4\" >3</td>\n",
       "      <td id=\"T_2c580_row0_col5\" class=\"data row0 col5\" >1553</td>\n",
       "      <td id=\"T_2c580_row0_col6\" class=\"data row0 col6\" >3</td>\n",
       "      <td id=\"T_2c580_row0_col7\" class=\"data row0 col7\" >1545</td>\n",
       "      <td id=\"T_2c580_row0_col8\" class=\"data row0 col8\" >7</td>\n",
       "      <td id=\"T_2c580_row0_col9\" class=\"data row0 col9\" >1</td>\n",
       "      <td id=\"T_2c580_row0_col10\" class=\"data row0 col10\" >1</td>\n",
       "    </tr>\n",
       "  </tbody>\n",
       "</table>\n"
      ],
      "text/plain": [
       "<pandas.io.formats.style.Styler at 0x7fe09bd2f9a0>"
      ]
     },
     "execution_count": 15,
     "metadata": {},
     "output_type": "execute_result"
    }
   ],
   "source": [
    "msm.info(molecular_system)"
   ]
  },
  {
   "cell_type": "code",
   "execution_count": 17,
   "id": "57fef892-6d62-4fa9-88b0-a478260cfe49",
   "metadata": {},
   "outputs": [],
   "source": [
    "molecular_system = msm.pbc.wrap_to_mic(molecular_system)"
   ]
  },
  {
   "cell_type": "code",
   "execution_count": 18,
   "id": "99250520-a730-426a-b084-e5a8c8c69829",
   "metadata": {},
   "outputs": [
    {
     "data": {
      "application/vnd.jupyter.widget-view+json": {
       "model_id": "52f17021a0fa402e8e7982c2011be280",
       "version_major": 2,
       "version_minor": 0
      },
      "text/plain": [
       "NGLWidget()"
      ]
     },
     "metadata": {},
     "output_type": "display_data"
    }
   ],
   "source": [
    "msm.view(molecular_system, standardize=True, water_as_surface=True)"
   ]
  },
  {
   "cell_type": "code",
   "execution_count": 19,
   "id": "782eeead-cb07-485a-9c4e-6bb909dc0e89",
   "metadata": {},
   "outputs": [
    {
     "data": {
      "text/plain": [
       "'hepta-L-Arg_solv.pdb'"
      ]
     },
     "execution_count": 19,
     "metadata": {},
     "output_type": "execute_result"
    }
   ],
   "source": [
    "msm.convert(molecular_system, to_form='hepta-L-Arg_solv.pdb')"
   ]
  },
  {
   "cell_type": "code",
   "execution_count": null,
   "id": "6aa743da-e96a-472f-9d55-bb90610d9d55",
   "metadata": {},
   "outputs": [],
   "source": []
  }
 ],
 "metadata": {
  "kernelspec": {
   "display_name": "Python 3 (ipykernel)",
   "language": "python",
   "name": "python3"
  },
  "language_info": {
   "codemirror_mode": {
    "name": "ipython",
    "version": 3
   },
   "file_extension": ".py",
   "mimetype": "text/x-python",
   "name": "python",
   "nbconvert_exporter": "python",
   "pygments_lexer": "ipython3",
   "version": "3.9.15"
  }
 },
 "nbformat": 4,
 "nbformat_minor": 5
}
